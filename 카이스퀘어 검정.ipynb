{
 "cells": [
  {
   "cell_type": "markdown",
   "metadata": {},
   "source": [
    "출처\n",
    "https://junsik-hwang.tistory.com/23?category=803034\n",
    "\n",
    "https://ysyblog.tistory.com/116?category=1170736\n",
    "\n",
    "https://alex-blog.tistory.com/entry/%EB%8D%B0%EC%9D%B4%ED%84%B0-%EB%B6%84%EC%84%9D%EC%9D%84-%EC%9C%84%ED%95%9C-%ED%86%B5%EA%B3%84%EB%B6%84%EC%84%9D%EC%B9%B4%EC%9D%B4%EC%8A%A4%ED%80%98%EC%96%B4-%EA%B2%80%EC%A0%95-feat-python?category=879902\n",
    "\n",
    "아주 좋음!! https://datascienceschool.net/02%20mathematics/09.05%20%EC%82%AC%EC%9D%B4%ED%8C%8C%EC%9D%B4%EB%A5%BC%20%EC%82%AC%EC%9A%A9%ED%95%9C%20%EA%B2%80%EC%A0%95.html#id10\n"
   ]
  },
  {
   "cell_type": "markdown",
   "metadata": {},
   "source": [
    "카이스퀘어 검정에는 적합도검정, 독립성 검정, 동질성 검정 크게 3가지 검정이 있다.\n",
    "\n",
    "\n",
    "#### 적합도 검정\n",
    "하나의 범주형 변수에 대해, 이 변수가 우리가 기대하는 어떤 분포를 따르는지 여부에 대해서 검정하는 방법\n",
    "\n",
    "실제로 관측된 값과 일어날 것으로 기대하고 있는 값을 비교하는 검정이다.\n",
    "\n",
    "예를 들어 아래와 같은 표가 있을 때\n",
    "||흰공|검은공|빨간공|합계|\n",
    "|------|---|---|---|---|\n",
    "|관찰|20|10|60|90|\n",
    "|기대|30|30|30|90|\n",
    "|합계|50|40|90|180|\n",
    "\n",
    "한 상자안에 들어있는 여러 색의 공을 뽑았을 때의 관측분포가 기대 분포(0.33,0.33,0.33)와 같은지를 검정하는 것이다.\n",
    "\n",
    "귀무가설 - 변수 X의 관측분포와 기대분포가 동일하다\n",
    "\n",
    "대립가설 - 변수 X의 관측 분포와 기대 분포가 다르다.\n",
    "\n",
    "##### 예시"
   ]
  },
  {
   "cell_type": "code",
   "execution_count": 5,
   "metadata": {},
   "outputs": [
    {
     "name": "stdout",
     "output_type": "stream",
     "text": [
      "static : 46.66666666666667, p-value : 7.352958061453824e-11\n"
     ]
    }
   ],
   "source": [
    "from scipy.stats import chisquare\n",
    "data_observed = [20,10,60]\n",
    "data_expected = [30,30,30]\n",
    "\n",
    "statistic, pvalue = chisquare(data_observed, data_expected)\n",
    "print(\"static : {}, p-value : {}\".format(statistic,pvalue))\n",
    "\n",
    "# p-value가 유의수준 0.05보다 작다\n",
    "# 따라서 귀무가설을 기각한다! 변수 X의 관측분포와 기대분포가 다르다."
   ]
  },
  {
   "cell_type": "markdown",
   "metadata": {},
   "source": [
    "--------\n",
    "#### 독립성 검정(교차분석)\n",
    "\n",
    "독립성 검정은 범주형인 두 변수가 서로 연관되어 있는지 여부를 검정하는 방법이다. 연속형 변수들 사이의 관계를 알아보는 것이 상관분석이라면 독립성검정은 범주형 변수에 사용되는 상관분석이라고 할 수 있다.\n",
    "\n",
    "예를 들어 아래와 같은 표가 있을 때\n",
    "||흡연|비흡연|합계|\n",
    "|---|---|---|---|\n",
    "|남성|5|12|17|\n",
    "|여성|6|1|7|\n",
    "|합계|11|13|24|\n",
    "\n",
    "성별과 흡연여부의 관계를 알아보고 싶을 때 사용하는 것이 독립성 검정이다.\n",
    "\n",
    "귀무가설 - 변수 X와 Y는 서로 독립이다.\n",
    "\n",
    "대립가설 - 변수 X와 Y는 서로 독립이 아니다.(상관이 있다.)\n",
    "\n",
    "##### 예시"
   ]
  },
  {
   "cell_type": "code",
   "execution_count": 9,
   "metadata": {},
   "outputs": [
    {
     "data": {
      "text/html": [
       "<div>\n",
       "<style scoped>\n",
       "    .dataframe tbody tr th:only-of-type {\n",
       "        vertical-align: middle;\n",
       "    }\n",
       "\n",
       "    .dataframe tbody tr th {\n",
       "        vertical-align: top;\n",
       "    }\n",
       "\n",
       "    .dataframe thead th {\n",
       "        text-align: right;\n",
       "    }\n",
       "</style>\n",
       "<table border=\"1\" class=\"dataframe\">\n",
       "  <thead>\n",
       "    <tr style=\"text-align: right;\">\n",
       "      <th>흡연여부</th>\n",
       "      <th>비흡연</th>\n",
       "      <th>흡연</th>\n",
       "      <th>All</th>\n",
       "    </tr>\n",
       "    <tr>\n",
       "      <th>성별</th>\n",
       "      <th></th>\n",
       "      <th></th>\n",
       "      <th></th>\n",
       "    </tr>\n",
       "  </thead>\n",
       "  <tbody>\n",
       "    <tr>\n",
       "      <th>남자</th>\n",
       "      <td>5</td>\n",
       "      <td>12</td>\n",
       "      <td>17</td>\n",
       "    </tr>\n",
       "    <tr>\n",
       "      <th>여자</th>\n",
       "      <td>6</td>\n",
       "      <td>1</td>\n",
       "      <td>7</td>\n",
       "    </tr>\n",
       "    <tr>\n",
       "      <th>All</th>\n",
       "      <td>11</td>\n",
       "      <td>13</td>\n",
       "      <td>24</td>\n",
       "    </tr>\n",
       "  </tbody>\n",
       "</table>\n",
       "</div>"
      ],
      "text/plain": [
       "흡연여부  비흡연  흡연  All\n",
       "성별                \n",
       "남자      5  12   17\n",
       "여자      6   1    7\n",
       "All    11  13   24"
      ]
     },
     "execution_count": 9,
     "metadata": {},
     "output_type": "execute_result"
    }
   ],
   "source": [
    "import pandas as pd\n",
    "from scipy.stats import chi2_contingency\n",
    "\n",
    "df=pd.DataFrame({\"성별\":['남자', '남자', '남자', '남자', '남자', '남자', \n",
    "'남자', '남자', '남자', '남자', '남자', '남자', '남자', '남자', '남자', '남자', \n",
    "'남자', '여자', '여자', '여자', '여자', '여자', '여자', '여자'], \"흡연여부\":['흡연', \n",
    "'흡연', '흡연', '흡연', '흡연','흡연', '비흡연', '흡연', '흡연', '흡연','흡연', \n",
    "'비흡연', '흡연', '흡연', '비흡연','비흡연', '비흡연','비흡연', '비흡연','비흡연', '비흡연',\n",
    "'비흡연', '흡연', '비흡연']})\n",
    "\n",
    "pd.crosstab(df['성별'], df['흡연여부'], margins=True)\n"
   ]
  },
  {
   "cell_type": "code",
   "execution_count": 10,
   "metadata": {},
   "outputs": [
    {
     "name": "stdout",
     "output_type": "stream",
     "text": [
      "1. 카이제곱 통계량: 6.33108068402186\n",
      "2. p-value: 0.011864000230647513\n",
      "3. df: 1\n",
      "4. 기대값 행렬:\n"
     ]
    },
    {
     "data": {
      "text/html": [
       "<div>\n",
       "<style scoped>\n",
       "    .dataframe tbody tr th:only-of-type {\n",
       "        vertical-align: middle;\n",
       "    }\n",
       "\n",
       "    .dataframe tbody tr th {\n",
       "        vertical-align: top;\n",
       "    }\n",
       "\n",
       "    .dataframe thead th {\n",
       "        text-align: right;\n",
       "    }\n",
       "</style>\n",
       "<table border=\"1\" class=\"dataframe\">\n",
       "  <thead>\n",
       "    <tr style=\"text-align: right;\">\n",
       "      <th></th>\n",
       "      <th>비흡연</th>\n",
       "      <th>흡연</th>\n",
       "    </tr>\n",
       "  </thead>\n",
       "  <tbody>\n",
       "    <tr>\n",
       "      <th>남자</th>\n",
       "      <td>7.791667</td>\n",
       "      <td>9.208333</td>\n",
       "    </tr>\n",
       "    <tr>\n",
       "      <th>여자</th>\n",
       "      <td>3.208333</td>\n",
       "      <td>3.791667</td>\n",
       "    </tr>\n",
       "  </tbody>\n",
       "</table>\n",
       "</div>"
      ],
      "text/plain": [
       "         비흡연        흡연\n",
       "남자  7.791667  9.208333\n",
       "여자  3.208333  3.791667"
      ]
     },
     "execution_count": 10,
     "metadata": {},
     "output_type": "execute_result"
    }
   ],
   "source": [
    "smoke_crosstab=pd.crosstab(df['성별'], df['흡연여부'], margins=False) \n",
    "# 교차분석에 사용하기 위한 crosstab은 margin이 없어야 함.\n",
    "\n",
    "result=chi2_contingency(observed=smoke_crosstab, correction=False)\n",
    "print(\"1. 카이제곱 통계량:\", result[0])\n",
    "print(\"2. p-value:\", result[1])\n",
    "print(\"3. df:\", result[2]) #(행의개수-1)*(열의개수-1)\n",
    "print(\"4. 기대값 행렬:\")\n",
    "pd.DataFrame(result[3]).rename(index={0:'남자', 1:'여자'}, columns={0:'비흡연', 1:'흡연'})\n",
    "\n",
    "# p-valye가 유의수준 0.05보다 작다 따라서 귀무가설을 기각한다.\n",
    "# 성별과 흡연은 서로 관련이 있다."
   ]
  },
  {
   "cell_type": "markdown",
   "metadata": {},
   "source": [
    "------\n",
    "#### 동질성 검정(잘 안나올 듯 대충 훑어만 보기)\n",
    "\n",
    "동질성 검정은 독립성검정처럼 변수가 2개이다. 하지만 동질성검정은 독립성 검정과 달리 두 변수의 관계를 알기 위해 하는 검정은 아니다.\n",
    "\n",
    "각 그룹이 동질한지 알고 싶을 때 하는 검정이 동질성 검정이다.\n",
    "\n",
    "예를 들어 아래와 같은 표가 있을 때\n",
    "||흡연|비흡연|합계|\n",
    "|---|---|---|---|\n",
    "|남성|5|12|17|\n",
    "|여성|6|1|7|\n",
    "|합계|11|13|24|\n",
    "\n",
    "남성 그룹과 여성 그룹의 흡연율이 같은지 여부를 알아보기 위한 것이 동질성 검정이다.\n",
    "\n",
    "귀무가설 - 각 그룹의 확률분포가 동일하다.\n",
    "\n",
    "대립가설 - 각 그룹의 확률분포가 동일하지 않다.\n",
    "\n",
    "독립성검정과 동질성검정은 변수의 종류에 의해 결정되는 것이 아니라 '관점'과 '표본추출방법'에 의해 결정된다.\n",
    "\n",
    "만약 '성별'과 '흡연여부'를 두 개의 변수로 보고 독립성검정을 하겠다고 결정했다면 표본추출은 전체 집단하나에서 추출하고 독립성 검정을 시행하는 것이다.\n",
    "\n",
    "만약 '흡연 여부'만을 변수로 보고 남/녀 그룹의 동질성을 비교하고 싶다면 남자 그룹과 여자그룹의 표본을 각각 추출하고 동질성 검정을 시행하는 것이다."
   ]
  },
  {
   "cell_type": "code",
   "execution_count": null,
   "metadata": {},
   "outputs": [],
   "source": []
  }
 ],
 "metadata": {
  "kernelspec": {
   "display_name": "Python 3.7.6 ('base')",
   "language": "python",
   "name": "python3"
  },
  "language_info": {
   "codemirror_mode": {
    "name": "ipython",
    "version": 3
   },
   "file_extension": ".py",
   "mimetype": "text/x-python",
   "name": "python",
   "nbconvert_exporter": "python",
   "pygments_lexer": "ipython3",
   "version": "3.7.6"
  },
  "orig_nbformat": 4,
  "vscode": {
   "interpreter": {
    "hash": "cea5c30455cfc6fab43a2cf58c39f4ade07d247a04e44debcacb6bda1b2d9afb"
   }
  }
 },
 "nbformat": 4,
 "nbformat_minor": 2
}
