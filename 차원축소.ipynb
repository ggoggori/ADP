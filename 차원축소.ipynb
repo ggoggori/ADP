{
 "cells": [
  {
   "cell_type": "markdown",
   "metadata": {},
   "source": [
    "* pca\n",
    "    * https://ysyblog.tistory.com/123\n",
    "    * https://m.blog.naver.com/tjdrud1323/221720259834\n",
    "\n",
    "* FA\n",
    "    * https://insightcampus.co.kr/2022/01/17/python%EC%9C%BC%EB%A1%9C-%ED%95%98%EB%8A%94-%EC%9A%94%EC%9D%B8-%EB%B6%84%EC%84%9D/\n",
    "    * https://ysyblog.tistory.com/124\n",
    "\n",
    "* LLE, MDS \n",
    "    * https://lovit.github.io/nlp/representation/2018/09/28/mds_isomap_lle/"
   ]
  },
  {
   "cell_type": "markdown",
   "metadata": {},
   "source": [
    "### 차원축소"
   ]
  },
  {
   "cell_type": "markdown",
   "metadata": {},
   "source": [
    "PCA(주성분분석)\n",
    "\n",
    "LLE\n",
    "\n",
    "Factor Analysis\n",
    "\n",
    "MDS(다차원척도법)"
   ]
  },
  {
   "cell_type": "markdown",
   "metadata": {},
   "source": [
    "# PCA"
   ]
  },
  {
   "cell_type": "markdown",
   "metadata": {},
   "source": [
    "* 고차원의 데이터를 저차원의 데이터로 축소시키는 기법\n",
    "* 데이터를 어떤 기준을 바탕으로 변황을 하고, 그 변환으로 인해 '주성분'이 추출된다.\n",
    "* 따라서 추출된 주성분은 원래의 데이터와 다르다. 그렇기 때문에 변수의 의미가 중요한 경우에는 PCA를 사용하면 안된다."
   ]
  },
  {
   "cell_type": "code",
   "execution_count": 1,
   "metadata": {},
   "outputs": [
    {
     "data": {
      "text/html": [
       "<div>\n",
       "<style scoped>\n",
       "    .dataframe tbody tr th:only-of-type {\n",
       "        vertical-align: middle;\n",
       "    }\n",
       "\n",
       "    .dataframe tbody tr th {\n",
       "        vertical-align: top;\n",
       "    }\n",
       "\n",
       "    .dataframe thead th {\n",
       "        text-align: right;\n",
       "    }\n",
       "</style>\n",
       "<table border=\"1\" class=\"dataframe\">\n",
       "  <thead>\n",
       "    <tr style=\"text-align: right;\">\n",
       "      <th></th>\n",
       "      <th>sepal length</th>\n",
       "      <th>sepal width</th>\n",
       "      <th>petal length</th>\n",
       "      <th>petal width</th>\n",
       "      <th>target</th>\n",
       "    </tr>\n",
       "  </thead>\n",
       "  <tbody>\n",
       "    <tr>\n",
       "      <th>0</th>\n",
       "      <td>5.1</td>\n",
       "      <td>3.5</td>\n",
       "      <td>1.4</td>\n",
       "      <td>0.2</td>\n",
       "      <td>Iris-setosa</td>\n",
       "    </tr>\n",
       "    <tr>\n",
       "      <th>1</th>\n",
       "      <td>4.9</td>\n",
       "      <td>3.0</td>\n",
       "      <td>1.4</td>\n",
       "      <td>0.2</td>\n",
       "      <td>Iris-setosa</td>\n",
       "    </tr>\n",
       "    <tr>\n",
       "      <th>2</th>\n",
       "      <td>4.7</td>\n",
       "      <td>3.2</td>\n",
       "      <td>1.3</td>\n",
       "      <td>0.2</td>\n",
       "      <td>Iris-setosa</td>\n",
       "    </tr>\n",
       "    <tr>\n",
       "      <th>3</th>\n",
       "      <td>4.6</td>\n",
       "      <td>3.1</td>\n",
       "      <td>1.5</td>\n",
       "      <td>0.2</td>\n",
       "      <td>Iris-setosa</td>\n",
       "    </tr>\n",
       "    <tr>\n",
       "      <th>4</th>\n",
       "      <td>5.0</td>\n",
       "      <td>3.6</td>\n",
       "      <td>1.4</td>\n",
       "      <td>0.2</td>\n",
       "      <td>Iris-setosa</td>\n",
       "    </tr>\n",
       "  </tbody>\n",
       "</table>\n",
       "</div>"
      ],
      "text/plain": [
       "   sepal length  sepal width  petal length  petal width       target\n",
       "0           5.1          3.5           1.4          0.2  Iris-setosa\n",
       "1           4.9          3.0           1.4          0.2  Iris-setosa\n",
       "2           4.7          3.2           1.3          0.2  Iris-setosa\n",
       "3           4.6          3.1           1.5          0.2  Iris-setosa\n",
       "4           5.0          3.6           1.4          0.2  Iris-setosa"
      ]
     },
     "execution_count": 1,
     "metadata": {},
     "output_type": "execute_result"
    }
   ],
   "source": [
    "import pandas as pd\n",
    "url = \"https://archive.ics.uci.edu/ml/machine-learning-databases/iris/iris.data\"\n",
    "df = pd.read_csv(url, names=['sepal length','sepal width','petal length','petal width','target'])\n",
    "df.head()"
   ]
  },
  {
   "cell_type": "code",
   "execution_count": 2,
   "metadata": {},
   "outputs": [
    {
     "data": {
      "text/html": [
       "<div>\n",
       "<style scoped>\n",
       "    .dataframe tbody tr th:only-of-type {\n",
       "        vertical-align: middle;\n",
       "    }\n",
       "\n",
       "    .dataframe tbody tr th {\n",
       "        vertical-align: top;\n",
       "    }\n",
       "\n",
       "    .dataframe thead th {\n",
       "        text-align: right;\n",
       "    }\n",
       "</style>\n",
       "<table border=\"1\" class=\"dataframe\">\n",
       "  <thead>\n",
       "    <tr style=\"text-align: right;\">\n",
       "      <th></th>\n",
       "      <th>sepal length</th>\n",
       "      <th>sepal width</th>\n",
       "      <th>petal length</th>\n",
       "      <th>petal width</th>\n",
       "    </tr>\n",
       "  </thead>\n",
       "  <tbody>\n",
       "    <tr>\n",
       "      <th>0</th>\n",
       "      <td>-0.900681</td>\n",
       "      <td>1.032057</td>\n",
       "      <td>-1.341272</td>\n",
       "      <td>-1.312977</td>\n",
       "    </tr>\n",
       "    <tr>\n",
       "      <th>1</th>\n",
       "      <td>-1.143017</td>\n",
       "      <td>-0.124958</td>\n",
       "      <td>-1.341272</td>\n",
       "      <td>-1.312977</td>\n",
       "    </tr>\n",
       "    <tr>\n",
       "      <th>2</th>\n",
       "      <td>-1.385353</td>\n",
       "      <td>0.337848</td>\n",
       "      <td>-1.398138</td>\n",
       "      <td>-1.312977</td>\n",
       "    </tr>\n",
       "    <tr>\n",
       "      <th>3</th>\n",
       "      <td>-1.506521</td>\n",
       "      <td>0.106445</td>\n",
       "      <td>-1.284407</td>\n",
       "      <td>-1.312977</td>\n",
       "    </tr>\n",
       "    <tr>\n",
       "      <th>4</th>\n",
       "      <td>-1.021849</td>\n",
       "      <td>1.263460</td>\n",
       "      <td>-1.341272</td>\n",
       "      <td>-1.312977</td>\n",
       "    </tr>\n",
       "  </tbody>\n",
       "</table>\n",
       "</div>"
      ],
      "text/plain": [
       "   sepal length  sepal width  petal length  petal width\n",
       "0     -0.900681     1.032057     -1.341272    -1.312977\n",
       "1     -1.143017    -0.124958     -1.341272    -1.312977\n",
       "2     -1.385353     0.337848     -1.398138    -1.312977\n",
       "3     -1.506521     0.106445     -1.284407    -1.312977\n",
       "4     -1.021849     1.263460     -1.341272    -1.312977"
      ]
     },
     "execution_count": 2,
     "metadata": {},
     "output_type": "execute_result"
    }
   ],
   "source": [
    "from sklearn.preprocessing import StandardScaler  # 표준화 패키지 라이브러리 \n",
    "x = df.drop(['target'], axis=1).values # 독립변인들의 value값만 추출\n",
    "y = df['target'].values # 종속변인 추출\n",
    "\n",
    "x = StandardScaler().fit_transform(x) # x객체에 x를 표준화한 데이터를 저장\n",
    "\n",
    "features = ['sepal length', 'sepal width', 'petal length', 'petal width']\n",
    "pd.DataFrame(x, columns=features).head()\n",
    "\n",
    "# pca를 하기 전에 데이터 스케일링을 하는 이유는 데이터의 스케일에 따라 주성분의 설명 가능한 분산량이 달라질 수 있기 때문이다. "
   ]
  },
  {
   "cell_type": "markdown",
   "metadata": {},
   "source": [
    "### pca 수행"
   ]
  },
  {
   "cell_type": "code",
   "execution_count": 3,
   "metadata": {},
   "outputs": [
    {
     "data": {
      "text/html": [
       "<div>\n",
       "<style scoped>\n",
       "    .dataframe tbody tr th:only-of-type {\n",
       "        vertical-align: middle;\n",
       "    }\n",
       "\n",
       "    .dataframe tbody tr th {\n",
       "        vertical-align: top;\n",
       "    }\n",
       "\n",
       "    .dataframe thead th {\n",
       "        text-align: right;\n",
       "    }\n",
       "</style>\n",
       "<table border=\"1\" class=\"dataframe\">\n",
       "  <thead>\n",
       "    <tr style=\"text-align: right;\">\n",
       "      <th></th>\n",
       "      <th>설명가능한 분산 비율(고윳값)</th>\n",
       "      <th>기여율</th>\n",
       "      <th>누적기여율</th>\n",
       "    </tr>\n",
       "  </thead>\n",
       "  <tbody>\n",
       "    <tr>\n",
       "      <th>pca1</th>\n",
       "      <td>2.930354</td>\n",
       "      <td>0.727705</td>\n",
       "      <td>0.727705</td>\n",
       "    </tr>\n",
       "    <tr>\n",
       "      <th>pca2</th>\n",
       "      <td>0.927404</td>\n",
       "      <td>0.230305</td>\n",
       "      <td>0.958010</td>\n",
       "    </tr>\n",
       "    <tr>\n",
       "      <th>pca3</th>\n",
       "      <td>0.148342</td>\n",
       "      <td>0.036838</td>\n",
       "      <td>0.994848</td>\n",
       "    </tr>\n",
       "    <tr>\n",
       "      <th>pca4</th>\n",
       "      <td>0.020746</td>\n",
       "      <td>0.005152</td>\n",
       "      <td>1.000000</td>\n",
       "    </tr>\n",
       "  </tbody>\n",
       "</table>\n",
       "</div>"
      ],
      "text/plain": [
       "      설명가능한 분산 비율(고윳값)       기여율     누적기여율\n",
       "pca1          2.930354  0.727705  0.727705\n",
       "pca2          0.927404  0.230305  0.958010\n",
       "pca3          0.148342  0.036838  0.994848\n",
       "pca4          0.020746  0.005152  1.000000"
      ]
     },
     "execution_count": 3,
     "metadata": {},
     "output_type": "execute_result"
    }
   ],
   "source": [
    "from sklearn.decomposition import PCA\n",
    "import numpy as np\n",
    "\n",
    "pca = PCA(n_components=4) # 주성분을 몇개로 할지 결정\n",
    "printcipalComponents = pca.fit_transform(x)\n",
    "\n",
    "result = pd.DataFrame({'설명가능한 분산 비율(고윳값)':pca.explained_variance_,\n",
    "             '기여율':pca.explained_variance_ratio_},\n",
    "            index=np.array([f\"pca{num+1}\" for num in range(x.shape[1])]))\n",
    "result['누적기여율'] = result['기여율'].cumsum()\n",
    "result"
   ]
  },
  {
   "cell_type": "code",
   "execution_count": 4,
   "metadata": {},
   "outputs": [
    {
     "data": {
      "image/png": "[encoded data removed]",
      "text/plain": [
       "<Figure size 432x288 with 1 Axes>"
      ]
     },
     "metadata": {
      "needs_background": "light"
     },
     "output_type": "display_data"
    }
   ],
   "source": [
    "import matplotlib.pyplot as plt\n",
    "\n",
    "ax = plt.plot(['PC1','PC2','PC3','PC4'], pca.explained_variance_ratio_)\n",
    "plt.show()"
   ]
  },
  {
   "cell_type": "markdown",
   "metadata": {},
   "source": [
    "위와 같이 각 주성분의 고윳값과 주성분 마다 기여율을 누적한 누적 기여율을 계산한 데이터 프레임이 완성되었다. \n",
    "\n",
    "여기서 개별 고윳값 즉, 각 주성분 마다 고윳값이 0.7이상인 주성분들, 누적기여율이 80% 이상이 넘어거지는 지점까지의 주성분들을 기준으로 하여 적절한 주성분 개수를 설정한다. \n",
    "\n",
    "이 예제에서는 누적기여율이 80%이상이 넘어가는 순간인 2개로 주성분 갯수를 설정한다."
   ]
  },
  {
   "cell_type": "code",
   "execution_count": 7,
   "metadata": {},
   "outputs": [
    {
     "data": {
      "text/html": [
       "<div>\n",
       "<style scoped>\n",
       "    .dataframe tbody tr th:only-of-type {\n",
       "        vertical-align: middle;\n",
       "    }\n",
       "\n",
       "    .dataframe tbody tr th {\n",
       "        vertical-align: top;\n",
       "    }\n",
       "\n",
       "    .dataframe thead th {\n",
       "        text-align: right;\n",
       "    }\n",
       "</style>\n",
       "<table border=\"1\" class=\"dataframe\">\n",
       "  <thead>\n",
       "    <tr style=\"text-align: right;\">\n",
       "      <th></th>\n",
       "      <th>principal component1</th>\n",
       "      <th>principal component2</th>\n",
       "    </tr>\n",
       "  </thead>\n",
       "  <tbody>\n",
       "    <tr>\n",
       "      <th>0</th>\n",
       "      <td>-2.264542</td>\n",
       "      <td>0.505704</td>\n",
       "    </tr>\n",
       "    <tr>\n",
       "      <th>1</th>\n",
       "      <td>-2.086426</td>\n",
       "      <td>-0.655405</td>\n",
       "    </tr>\n",
       "    <tr>\n",
       "      <th>2</th>\n",
       "      <td>-2.367950</td>\n",
       "      <td>-0.318477</td>\n",
       "    </tr>\n",
       "    <tr>\n",
       "      <th>3</th>\n",
       "      <td>-2.304197</td>\n",
       "      <td>-0.575368</td>\n",
       "    </tr>\n",
       "    <tr>\n",
       "      <th>4</th>\n",
       "      <td>-2.388777</td>\n",
       "      <td>0.674767</td>\n",
       "    </tr>\n",
       "  </tbody>\n",
       "</table>\n",
       "</div>"
      ],
      "text/plain": [
       "   principal component1  principal component2\n",
       "0             -2.264542              0.505704\n",
       "1             -2.086426             -0.655405\n",
       "2             -2.367950             -0.318477\n",
       "3             -2.304197             -0.575368\n",
       "4             -2.388777              0.674767"
      ]
     },
     "execution_count": 7,
     "metadata": {},
     "output_type": "execute_result"
    }
   ],
   "source": [
    "from sklearn.decomposition import PCA\n",
    "pca = PCA(n_components=2) # 주성분을 몇개로 할지 결정\n",
    "printcipalComponents = pca.fit_transform(x)\n",
    "principalDf = pd.DataFrame(data=printcipalComponents, columns = ['principal component1', 'principal component2'])\n",
    "# 주성분으로 이루어진 데이터 프레임 구성\n",
    "\n",
    "principalDf.head()"
   ]
  },
  {
   "cell_type": "markdown",
   "metadata": {},
   "source": [
    "### 시각화"
   ]
  },
  {
   "cell_type": "code",
   "execution_count": 9,
   "metadata": {},
   "outputs": [
    {
     "data": {
      "image/png": "[encoded data removed]",
      "text/plain": [
       "<Figure size 576x576 with 1 Axes>"
      ]
     },
     "metadata": {
      "needs_background": "light"
     },
     "output_type": "display_data"
    }
   ],
   "source": [
    "import matplotlib.pyplot as plt\n",
    "\n",
    "finalDf = pd.concat([principalDf, df[['target']]], axis = 1)\n",
    "\n",
    "fig = plt.figure(figsize = (8, 8))\n",
    "ax = fig.add_subplot(1, 1, 1)\n",
    "ax.set_xlabel('Principal Component 1', fontsize = 15)\n",
    "ax.set_ylabel('Principal Component 2', fontsize = 15)\n",
    "ax.set_title('2 component PCA', fontsize=20)\n",
    "\n",
    "targets = ['Iris-setosa', 'Iris-versicolor', 'Iris-virginica']\n",
    "colors = ['r', 'g', 'b']\n",
    "for target, color in zip(targets,colors):\n",
    "    indicesToKeep = finalDf['target'] == target\n",
    "    ax.scatter(finalDf.loc[indicesToKeep, 'principal component1']\n",
    "               , finalDf.loc[indicesToKeep, 'principal component2']\n",
    "               , c = color\n",
    "               , s = 50)\n",
    "ax.legend(targets)\n",
    "ax.grid()"
   ]
  },
  {
   "cell_type": "markdown",
   "metadata": {},
   "source": [
    "https://ysyblog.tistory.com/124\n",
    "\n",
    "# Factor Analysis\n",
    "\n",
    "### 탐색적 요인 분석\n",
    "* 요인 분석 (FA)은 관찰 된 변수 집합에서 영향력있는 기본 요인 또는 잠재 변수를 검색하는 데 사용되는 탐색적 데이터 분석 방법이다.\n",
    "\n",
    "* 변수 수를 줄여 데이터 해석에 도움을 준다.\n",
    "\n",
    "* 모든 변수에서 최대 공분산을 추출하여 공통 점수에 넣는다.\n",
    "\n",
    "* 요인 분석은 시장 조사, 광고, 심리학, 금융 및 운영 연구에 널리 사용됨.\n",
    "\n",
    "* 예를 들어, 시장 조사원은 요인 분석을 사용하여 가격에 민감한 고객을 식별하고 소비자 선택에 영향을 미치는 브랜드 기능을 식별하며 유통 채널에 대한 채널 선택 기준을 이해하는 데 도움을 준다.\n",
    "\n",
    "### 탐색적 요인 분석의 전제조건\n",
    "* 등간척도, 정규분포, 관찰치가 상호독립적이며 분산이 동일해야한다.\n",
    "  \n",
    "* 모상관 행렬이 단위 행렬이라는 가설이 기각되어야함(KMO / Bartleet의 검정)\n",
    "  \n",
    "* 최초 요인 추출 단계에서 얻은 고유치를 scree chart로 표현했을 때, 한군데 이상 꺾이는 곳이 있어야함.\n",
    "  \n",
    "* 변수간에 높은 상관관계가 있어야한다.(상관관계가 높은 변수들끼리 그룹화 하는 것이기 때문)\n",
    "\n",
    "### 탐색적 요인 분석 방법\n",
    "* 변수간의 상관행렬로부터 공통요인을 도출한다.\n",
    "  \n",
    "* 도출된 공통요인을 이용해서 변수간의 상관관계를 설명한다.\n",
    "  \n",
    "* 요인부하량(factor loading)은 ±0.3 이상이면 유의하다고 본다.\n",
    "\n",
    "### 탐색적 요인 분석의 목적\n",
    "* 자료의 요약 : 변수들을 몇개의 공통된 변인으로 묶는다.\n",
    "  \n",
    "* 측정도구 타당성 검정 : 변인들이 동일한 요인으로 묶이는지를 확인.\n",
    "  \n",
    "* 변인구조 파악 : 변수들의 상호관계를 파악한다.\n",
    "  \n",
    "* 불필요한 변인 제거 : 중요도나 설명력이 낮은 변수를 제거한다.\n",
    "  \n",
    "* 회귀분석이나 판별분석의 설명변수 선택\n",
    "\n",
    "### PCA(주성분분석)과의 차이점\n",
    "* PCA 성분은 최대 분산 량을 설명하는 반면 요인 분석은 데이터의 공분산을 설명한다.\n",
    "  \n",
    "* PCA 구성 요소는 서로 완전히 직교하는 반면 요인 분석에서는 요인이 꼭 직교하는 것은 아니다.\n",
    "  \n",
    "* PCA 성분은 관찰 된 변수의 선형 조합이지만, FA에서 관찰 된 변수는 관찰되지 않은 변수 또는 요인의 선형 조합이다.\n",
    "  \n",
    "* PCA 구성 요소는 해석 할 수 없지만, FA에서 기본 요소는 라벨링 및 해석할 수 있다.\n",
    "  \n",
    "* PCA는 일종의 차원 감소 방법이며 요인 분석은 잠재 변수 방법이다.\n",
    "  \n",
    "* PCA는 관찰이지만 FA는 모델링 기술이다."
   ]
  },
  {
   "cell_type": "code",
   "execution_count": 1,
   "metadata": {},
   "outputs": [
    {
     "name": "stdout",
     "output_type": "stream",
     "text": [
      "<class 'pandas.core.frame.DataFrame'>\n",
      "Int64Index: 2436 entries, 61617 to 67560\n",
      "Data columns (total 25 columns):\n",
      " #   Column  Non-Null Count  Dtype  \n",
      "---  ------  --------------  -----  \n",
      " 0   A1      2436 non-null   float64\n",
      " 1   A2      2436 non-null   float64\n",
      " 2   A3      2436 non-null   float64\n",
      " 3   A4      2436 non-null   float64\n",
      " 4   A5      2436 non-null   float64\n",
      " 5   C1      2436 non-null   float64\n",
      " 6   C2      2436 non-null   float64\n",
      " 7   C3      2436 non-null   float64\n",
      " 8   C4      2436 non-null   float64\n",
      " 9   C5      2436 non-null   float64\n",
      " 10  E1      2436 non-null   float64\n",
      " 11  E2      2436 non-null   float64\n",
      " 12  E3      2436 non-null   float64\n",
      " 13  E4      2436 non-null   float64\n",
      " 14  E5      2436 non-null   float64\n",
      " 15  N1      2436 non-null   float64\n",
      " 16  N2      2436 non-null   float64\n",
      " 17  N3      2436 non-null   float64\n",
      " 18  N4      2436 non-null   float64\n",
      " 19  N5      2436 non-null   float64\n",
      " 20  O1      2436 non-null   float64\n",
      " 21  O2      2436 non-null   int64  \n",
      " 22  O3      2436 non-null   float64\n",
      " 23  O4      2436 non-null   float64\n",
      " 24  O5      2436 non-null   float64\n",
      "dtypes: float64(24), int64(1)\n",
      "memory usage: 494.8 KB\n"
     ]
    }
   ],
   "source": [
    "import pandas as pd\n",
    "from factor_analyzer import FactorAnalyzer\n",
    "import matplotlib.pyplot as plt\n",
    "\n",
    "df = pd.read_csv('https://vincentarelbundock.github.io/Rdatasets/csv/psych/bfi.csv', index_col=0)\n",
    "df.columns\n",
    "\n",
    "df.drop(['gender', 'education', 'age'],axis=1,inplace=True)\n",
    "df.dropna(inplace=True)\n",
    "df.info()"
   ]
  },
  {
   "cell_type": "markdown",
   "metadata": {},
   "source": [
    "#### 요인성 평가\n",
    "* 요인 분석을 수행하기 전에 데이터 세트의 요인성을 평가해야한다. Factorability는 데이터 세트에서 요인을 찾을 수 있는지를 확인하는 것이다.\n",
    "  \n",
    "* 인수 분해성 또는 샘플링 적절성을 확인하는 방법에는 아래와 같이 두 가지 방법이 있다."
   ]
  },
  {
   "cell_type": "markdown",
   "metadata": {},
   "source": [
    "#### 1. Bartlett의 테스트"
   ]
  },
  {
   "cell_type": "code",
   "execution_count": 2,
   "metadata": {},
   "outputs": [
    {
     "data": {
      "text/plain": [
       "(18146.06557723504, 0.0)"
      ]
     },
     "execution_count": 2,
     "metadata": {},
     "output_type": "execute_result"
    }
   ],
   "source": [
    "from factor_analyzer.factor_analyzer import calculate_bartlett_sphericity\n",
    "chi_square_value,p_value=calculate_bartlett_sphericity(df)\n",
    "chi_square_value, p_value\n",
    "# (18170.966350869236, 0.0)"
   ]
  },
  {
   "cell_type": "markdown",
   "metadata": {},
   "source": [
    "* p-value가 0이므로 탐색적 요인분석에 적합한 데이터라고 할 수 있다."
   ]
  },
  {
   "cell_type": "markdown",
   "metadata": {},
   "source": [
    "#### 2. Kaiser-Meyer-Olkin (KMO)검정\n",
    "* 관측 된 각 변수와 전체 모델에 대한 적절성을 결정한다.\n",
    "  \n",
    "* KMO는 관측 된 모든 변수 간의 분산 비율을 추정한다.\n",
    "  \n",
    "* Bartlett와 달리 p값이 없기 때문에 판단의 기준이 따로 있다.\n",
    "  \n",
    "* 0.6 미만의 KMO 값은 부적절한 것으로 간주되며 0.8이상이면 우수하다고 할 수 있다.\n",
    "  \n",
    "* 다만 KMO test를 하려면 변수가 최소한 3개 이상이어야 한다."
   ]
  },
  {
   "cell_type": "code",
   "execution_count": 3,
   "metadata": {},
   "outputs": [
    {
     "data": {
      "text/plain": [
       "0.8486452309468394"
      ]
     },
     "execution_count": 3,
     "metadata": {},
     "output_type": "execute_result"
    }
   ],
   "source": [
    "from factor_analyzer.factor_analyzer import calculate_kmo\n",
    "kmo_all,kmo_model=calculate_kmo(df)\n",
    "kmo_model\n",
    "# 0.848539722194922"
   ]
  },
  {
   "cell_type": "markdown",
   "metadata": {},
   "source": [
    "* KMO값이 0.85이므로 우수하다고 할 수 있다."
   ]
  },
  {
   "cell_type": "markdown",
   "metadata": {},
   "source": [
    "### 요인 수 선택"
   ]
  },
  {
   "cell_type": "code",
   "execution_count": 4,
   "metadata": {},
   "outputs": [
    {
     "data": {
      "text/plain": [
       "array([5.13431118, 2.75188667, 2.14270195, 1.85232761, 1.54816285,\n",
       "       1.07358247, 0.83953893, 0.79920618, 0.71898919, 0.68808879,\n",
       "       0.67637336, 0.65179984, 0.62325295, 0.59656284, 0.56309083,\n",
       "       0.54330533, 0.51451752, 0.49450315, 0.48263952, 0.448921  ,\n",
       "       0.42336611, 0.40067145, 0.38780448, 0.38185679, 0.26253902])"
      ]
     },
     "execution_count": 4,
     "metadata": {},
     "output_type": "execute_result"
    }
   ],
   "source": [
    "fa = FactorAnalyzer(n_factors=25,rotation=None)\n",
    "fa.fit(df)\n",
    "#Eigen값 체크 \n",
    "ev, v = fa.get_eigenvalues()\n",
    "ev"
   ]
  },
  {
   "cell_type": "code",
   "execution_count": 5,
   "metadata": {},
   "outputs": [
    {
     "data": {
      "image/png": "[encoded data removed]",
      "text/plain": [
       "<Figure size 640x480 with 1 Axes>"
      ]
     },
     "metadata": {},
     "output_type": "display_data"
    }
   ],
   "source": [
    "plt.scatter(range(1,df.shape[1]+1),ev)\n",
    "plt.plot(range(1,df.shape[1]+1),ev)\n",
    "plt.title('Scree Plot')\n",
    "plt.xlabel('Factors')\n",
    "plt.ylabel('Eigenvalue')\n",
    "plt.grid()\n",
    "plt.show()"
   ]
  },
  {
   "cell_type": "markdown",
   "metadata": {},
   "source": [
    "* Eigen값이 1이상일때 까지 or 그래프 기울기가 완만해지기 전까지 나누어야 데이터 결함을 최소화 할 수 있다.\n",
    "  \n",
    "* 위와 같은 경우 6개로 나누어주는 것이 최선이다."
   ]
  },
  {
   "cell_type": "markdown",
   "metadata": {},
   "source": [
    "### FA 실시"
   ]
  },
  {
   "cell_type": "code",
   "execution_count": 6,
   "metadata": {},
   "outputs": [
    {
     "data": {
      "text/html": [
       "<div>\n",
       "<style scoped>\n",
       "    .dataframe tbody tr th:only-of-type {\n",
       "        vertical-align: middle;\n",
       "    }\n",
       "\n",
       "    .dataframe tbody tr th {\n",
       "        vertical-align: top;\n",
       "    }\n",
       "\n",
       "    .dataframe thead th {\n",
       "        text-align: right;\n",
       "    }\n",
       "</style>\n",
       "<table border=\"1\" class=\"dataframe\">\n",
       "  <thead>\n",
       "    <tr style=\"text-align: right;\">\n",
       "      <th></th>\n",
       "      <th>0</th>\n",
       "      <th>1</th>\n",
       "      <th>2</th>\n",
       "      <th>3</th>\n",
       "      <th>4</th>\n",
       "      <th>5</th>\n",
       "    </tr>\n",
       "  </thead>\n",
       "  <tbody>\n",
       "    <tr>\n",
       "      <th>A1</th>\n",
       "      <td>0.095220</td>\n",
       "      <td>0.040783</td>\n",
       "      <td>0.048734</td>\n",
       "      <td>-0.530987</td>\n",
       "      <td>-0.113057</td>\n",
       "      <td>0.161216</td>\n",
       "    </tr>\n",
       "    <tr>\n",
       "      <th>A2</th>\n",
       "      <td>0.033131</td>\n",
       "      <td>0.235538</td>\n",
       "      <td>0.133714</td>\n",
       "      <td>0.661141</td>\n",
       "      <td>0.063734</td>\n",
       "      <td>-0.006244</td>\n",
       "    </tr>\n",
       "    <tr>\n",
       "      <th>A3</th>\n",
       "      <td>-0.009621</td>\n",
       "      <td>0.343008</td>\n",
       "      <td>0.121353</td>\n",
       "      <td>0.605933</td>\n",
       "      <td>0.033990</td>\n",
       "      <td>0.160106</td>\n",
       "    </tr>\n",
       "    <tr>\n",
       "      <th>A4</th>\n",
       "      <td>-0.081518</td>\n",
       "      <td>0.219717</td>\n",
       "      <td>0.235140</td>\n",
       "      <td>0.404594</td>\n",
       "      <td>-0.125338</td>\n",
       "      <td>0.086356</td>\n",
       "    </tr>\n",
       "    <tr>\n",
       "      <th>A5</th>\n",
       "      <td>-0.149616</td>\n",
       "      <td>0.414458</td>\n",
       "      <td>0.106382</td>\n",
       "      <td>0.469698</td>\n",
       "      <td>0.030977</td>\n",
       "      <td>0.236519</td>\n",
       "    </tr>\n",
       "    <tr>\n",
       "      <th>C1</th>\n",
       "      <td>-0.004358</td>\n",
       "      <td>0.077248</td>\n",
       "      <td>0.554582</td>\n",
       "      <td>0.007511</td>\n",
       "      <td>0.190124</td>\n",
       "      <td>0.095035</td>\n",
       "    </tr>\n",
       "    <tr>\n",
       "      <th>C2</th>\n",
       "      <td>0.068330</td>\n",
       "      <td>0.038370</td>\n",
       "      <td>0.674545</td>\n",
       "      <td>0.057055</td>\n",
       "      <td>0.087593</td>\n",
       "      <td>0.152775</td>\n",
       "    </tr>\n",
       "    <tr>\n",
       "      <th>C3</th>\n",
       "      <td>-0.039994</td>\n",
       "      <td>0.031867</td>\n",
       "      <td>0.551164</td>\n",
       "      <td>0.101282</td>\n",
       "      <td>-0.011338</td>\n",
       "      <td>0.008996</td>\n",
       "    </tr>\n",
       "    <tr>\n",
       "      <th>C4</th>\n",
       "      <td>0.216283</td>\n",
       "      <td>-0.066241</td>\n",
       "      <td>-0.638475</td>\n",
       "      <td>-0.102617</td>\n",
       "      <td>-0.143846</td>\n",
       "      <td>0.318359</td>\n",
       "    </tr>\n",
       "    <tr>\n",
       "      <th>C5</th>\n",
       "      <td>0.284187</td>\n",
       "      <td>-0.180812</td>\n",
       "      <td>-0.544838</td>\n",
       "      <td>-0.059955</td>\n",
       "      <td>0.025837</td>\n",
       "      <td>0.132423</td>\n",
       "    </tr>\n",
       "    <tr>\n",
       "      <th>E1</th>\n",
       "      <td>0.022280</td>\n",
       "      <td>-0.590451</td>\n",
       "      <td>0.053915</td>\n",
       "      <td>-0.130851</td>\n",
       "      <td>-0.071205</td>\n",
       "      <td>0.156583</td>\n",
       "    </tr>\n",
       "    <tr>\n",
       "      <th>E2</th>\n",
       "      <td>0.233624</td>\n",
       "      <td>-0.684578</td>\n",
       "      <td>-0.088497</td>\n",
       "      <td>-0.116716</td>\n",
       "      <td>-0.045561</td>\n",
       "      <td>0.115065</td>\n",
       "    </tr>\n",
       "    <tr>\n",
       "      <th>E3</th>\n",
       "      <td>-0.000895</td>\n",
       "      <td>0.556774</td>\n",
       "      <td>0.103390</td>\n",
       "      <td>0.179396</td>\n",
       "      <td>0.241180</td>\n",
       "      <td>0.267291</td>\n",
       "    </tr>\n",
       "    <tr>\n",
       "      <th>E4</th>\n",
       "      <td>-0.136788</td>\n",
       "      <td>0.658395</td>\n",
       "      <td>0.113798</td>\n",
       "      <td>0.241143</td>\n",
       "      <td>-0.107808</td>\n",
       "      <td>0.158513</td>\n",
       "    </tr>\n",
       "    <tr>\n",
       "      <th>E5</th>\n",
       "      <td>0.034490</td>\n",
       "      <td>0.507535</td>\n",
       "      <td>0.309813</td>\n",
       "      <td>0.078804</td>\n",
       "      <td>0.200821</td>\n",
       "      <td>0.008747</td>\n",
       "    </tr>\n",
       "    <tr>\n",
       "      <th>N1</th>\n",
       "      <td>0.805806</td>\n",
       "      <td>0.068011</td>\n",
       "      <td>-0.051264</td>\n",
       "      <td>-0.174849</td>\n",
       "      <td>-0.074977</td>\n",
       "      <td>-0.096266</td>\n",
       "    </tr>\n",
       "    <tr>\n",
       "      <th>N2</th>\n",
       "      <td>0.789832</td>\n",
       "      <td>0.022958</td>\n",
       "      <td>-0.037477</td>\n",
       "      <td>-0.141134</td>\n",
       "      <td>0.006726</td>\n",
       "      <td>-0.139823</td>\n",
       "    </tr>\n",
       "    <tr>\n",
       "      <th>N3</th>\n",
       "      <td>0.725081</td>\n",
       "      <td>-0.065687</td>\n",
       "      <td>-0.059039</td>\n",
       "      <td>-0.019184</td>\n",
       "      <td>-0.010664</td>\n",
       "      <td>0.062495</td>\n",
       "    </tr>\n",
       "    <tr>\n",
       "      <th>N4</th>\n",
       "      <td>0.578319</td>\n",
       "      <td>-0.345072</td>\n",
       "      <td>-0.162174</td>\n",
       "      <td>0.000403</td>\n",
       "      <td>0.062916</td>\n",
       "      <td>0.147551</td>\n",
       "    </tr>\n",
       "    <tr>\n",
       "      <th>N5</th>\n",
       "      <td>0.523097</td>\n",
       "      <td>-0.161675</td>\n",
       "      <td>-0.025305</td>\n",
       "      <td>0.090125</td>\n",
       "      <td>-0.161892</td>\n",
       "      <td>0.120049</td>\n",
       "    </tr>\n",
       "    <tr>\n",
       "      <th>O1</th>\n",
       "      <td>-0.020004</td>\n",
       "      <td>0.225339</td>\n",
       "      <td>0.133201</td>\n",
       "      <td>0.005178</td>\n",
       "      <td>0.479477</td>\n",
       "      <td>0.218690</td>\n",
       "    </tr>\n",
       "    <tr>\n",
       "      <th>O2</th>\n",
       "      <td>0.156230</td>\n",
       "      <td>-0.001982</td>\n",
       "      <td>-0.086047</td>\n",
       "      <td>0.043989</td>\n",
       "      <td>-0.496640</td>\n",
       "      <td>0.134693</td>\n",
       "    </tr>\n",
       "    <tr>\n",
       "      <th>O3</th>\n",
       "      <td>0.011851</td>\n",
       "      <td>0.325954</td>\n",
       "      <td>0.093880</td>\n",
       "      <td>0.076642</td>\n",
       "      <td>0.566128</td>\n",
       "      <td>0.210777</td>\n",
       "    </tr>\n",
       "    <tr>\n",
       "      <th>O4</th>\n",
       "      <td>0.207281</td>\n",
       "      <td>-0.177746</td>\n",
       "      <td>-0.005671</td>\n",
       "      <td>0.133656</td>\n",
       "      <td>0.349227</td>\n",
       "      <td>0.178068</td>\n",
       "    </tr>\n",
       "    <tr>\n",
       "      <th>O5</th>\n",
       "      <td>0.063234</td>\n",
       "      <td>-0.014221</td>\n",
       "      <td>-0.047059</td>\n",
       "      <td>-0.057561</td>\n",
       "      <td>-0.576743</td>\n",
       "      <td>0.135936</td>\n",
       "    </tr>\n",
       "  </tbody>\n",
       "</table>\n",
       "</div>"
      ],
      "text/plain": [
       "           0         1         2         3         4         5\n",
       "A1  0.095220  0.040783  0.048734 -0.530987 -0.113057  0.161216\n",
       "A2  0.033131  0.235538  0.133714  0.661141  0.063734 -0.006244\n",
       "A3 -0.009621  0.343008  0.121353  0.605933  0.033990  0.160106\n",
       "A4 -0.081518  0.219717  0.235140  0.404594 -0.125338  0.086356\n",
       "A5 -0.149616  0.414458  0.106382  0.469698  0.030977  0.236519\n",
       "C1 -0.004358  0.077248  0.554582  0.007511  0.190124  0.095035\n",
       "C2  0.068330  0.038370  0.674545  0.057055  0.087593  0.152775\n",
       "C3 -0.039994  0.031867  0.551164  0.101282 -0.011338  0.008996\n",
       "C4  0.216283 -0.066241 -0.638475 -0.102617 -0.143846  0.318359\n",
       "C5  0.284187 -0.180812 -0.544838 -0.059955  0.025837  0.132423\n",
       "E1  0.022280 -0.590451  0.053915 -0.130851 -0.071205  0.156583\n",
       "E2  0.233624 -0.684578 -0.088497 -0.116716 -0.045561  0.115065\n",
       "E3 -0.000895  0.556774  0.103390  0.179396  0.241180  0.267291\n",
       "E4 -0.136788  0.658395  0.113798  0.241143 -0.107808  0.158513\n",
       "E5  0.034490  0.507535  0.309813  0.078804  0.200821  0.008747\n",
       "N1  0.805806  0.068011 -0.051264 -0.174849 -0.074977 -0.096266\n",
       "N2  0.789832  0.022958 -0.037477 -0.141134  0.006726 -0.139823\n",
       "N3  0.725081 -0.065687 -0.059039 -0.019184 -0.010664  0.062495\n",
       "N4  0.578319 -0.345072 -0.162174  0.000403  0.062916  0.147551\n",
       "N5  0.523097 -0.161675 -0.025305  0.090125 -0.161892  0.120049\n",
       "O1 -0.020004  0.225339  0.133201  0.005178  0.479477  0.218690\n",
       "O2  0.156230 -0.001982 -0.086047  0.043989 -0.496640  0.134693\n",
       "O3  0.011851  0.325954  0.093880  0.076642  0.566128  0.210777\n",
       "O4  0.207281 -0.177746 -0.005671  0.133656  0.349227  0.178068\n",
       "O5  0.063234 -0.014221 -0.047059 -0.057561 -0.576743  0.135936"
      ]
     },
     "execution_count": 6,
     "metadata": {},
     "output_type": "execute_result"
    }
   ],
   "source": [
    "fa = FactorAnalyzer(n_factors=6, rotation=\"varimax\") #ml : 최대우도 방법\n",
    "fa.fit(df)\n",
    "efa_result= pd.DataFrame(fa.loadings_, index=df.columns)\n",
    "efa_result"
   ]
  },
  {
   "cell_type": "code",
   "execution_count": 8,
   "metadata": {},
   "outputs": [
    {
     "data": {
      "text/plain": [
       "<AxesSubplot:>"
      ]
     },
     "execution_count": 8,
     "metadata": {},
     "output_type": "execute_result"
    },
    {
     "data": {
      "image/png": "[encoded data removed]",
      "text/plain": [
       "<Figure size 600x1000 with 2 Axes>"
      ]
     },
     "metadata": {},
     "output_type": "display_data"
    }
   ],
   "source": [
    "import seaborn as sns\n",
    "plt.figure(figsize=(6,10))\n",
    "sns.heatmap(efa_result, cmap=\"Blues\", annot=True, fmt='.2f')"
   ]
  },
  {
   "cell_type": "markdown",
   "metadata": {},
   "source": [
    "요인 0는 N1, N2, N3, N4 및 N5에 대해 높은 요인 적재량을 가진다.\n",
    "\n",
    "요인 1는 E1, E2, E3, E4 및 E5에 대해 높은 요인 적재량을 가진다.\n",
    "\n",
    "요인 2에는 C1, C2, C3, C4 및 C5에 대해 높은 요인 적재량을 가진다.\n",
    "\n",
    "요인 3에는 A1, A2, A3, A4 및 A5에 대해 높은 요인 적재량을 가진다.\n",
    "\n",
    "요인 4에는 O1, O2, O3, O4 및 O5 에 대해 높은 요인 적재량을 가진다.\n",
    "\n",
    "요인 5에는 변수에 대해 높은 요인 적재량이 없다고 해석할 수 있다. 따라서 위의 5 가지 요소만 활용하는 것이 좋다."
   ]
  },
  {
   "cell_type": "markdown",
   "metadata": {},
   "source": [
    "#### 5개 요인으로 분석"
   ]
  },
  {
   "cell_type": "code",
   "execution_count": 9,
   "metadata": {},
   "outputs": [
    {
     "data": {
      "text/html": [
       "<div>\n",
       "<style scoped>\n",
       "    .dataframe tbody tr th:only-of-type {\n",
       "        vertical-align: middle;\n",
       "    }\n",
       "\n",
       "    .dataframe tbody tr th {\n",
       "        vertical-align: top;\n",
       "    }\n",
       "\n",
       "    .dataframe thead th {\n",
       "        text-align: right;\n",
       "    }\n",
       "</style>\n",
       "<table border=\"1\" class=\"dataframe\">\n",
       "  <thead>\n",
       "    <tr style=\"text-align: right;\">\n",
       "      <th></th>\n",
       "      <th>0</th>\n",
       "      <th>1</th>\n",
       "      <th>2</th>\n",
       "      <th>3</th>\n",
       "      <th>4</th>\n",
       "    </tr>\n",
       "  </thead>\n",
       "  <tbody>\n",
       "    <tr>\n",
       "      <th>SS Loadings</th>\n",
       "      <td>2.709633</td>\n",
       "      <td>2.473090</td>\n",
       "      <td>2.041106</td>\n",
       "      <td>1.844498</td>\n",
       "      <td>1.522153</td>\n",
       "    </tr>\n",
       "    <tr>\n",
       "      <th>Proportion Var</th>\n",
       "      <td>0.108385</td>\n",
       "      <td>0.098924</td>\n",
       "      <td>0.081644</td>\n",
       "      <td>0.073780</td>\n",
       "      <td>0.060886</td>\n",
       "    </tr>\n",
       "    <tr>\n",
       "      <th>Cumulative Var</th>\n",
       "      <td>0.108385</td>\n",
       "      <td>0.207309</td>\n",
       "      <td>0.288953</td>\n",
       "      <td>0.362733</td>\n",
       "      <td>0.423619</td>\n",
       "    </tr>\n",
       "  </tbody>\n",
       "</table>\n",
       "</div>"
      ],
      "text/plain": [
       "                       0         1         2         3         4\n",
       "SS Loadings     2.709633  2.473090  2.041106  1.844498  1.522153\n",
       "Proportion Var  0.108385  0.098924  0.081644  0.073780  0.060886\n",
       "Cumulative Var  0.108385  0.207309  0.288953  0.362733  0.423619"
      ]
     },
     "execution_count": 9,
     "metadata": {},
     "output_type": "execute_result"
    }
   ],
   "source": [
    "fa = FactorAnalyzer(n_factors=5, rotation=\"varimax\") #ml : 최대우도 방법\n",
    "fa.fit(df)\n",
    "# FactorAnalyzer(n_factors=5, rotation='varimax', rotation_kwargs={})\n",
    "\n",
    "fa.get_factor_variance()\n",
    "df1 = pd.DataFrame(fa.get_factor_variance())\n",
    "#행, 열 이름 설정\n",
    "df1.index = ['SS Loadings', 'Proportion Var','Cumulative Var']\n",
    "df1"
   ]
  },
  {
   "cell_type": "markdown",
   "metadata": {},
   "source": [
    "### 신뢰도 계수(크론바흐 알파계수) 확인"
   ]
  },
  {
   "cell_type": "code",
   "execution_count": 16,
   "metadata": {},
   "outputs": [],
   "source": [
    "# 신롸도 계수를 구하는 함수\n",
    "import numpy as np\n",
    "def CronbachAlpha(itemscores):\n",
    "    itemscores = np.asarray(itemscores)\n",
    "    itemvars = itemscores.var(axis=0, ddof=1)\n",
    "    tscores = itemscores.sum(axis=1)\n",
    "    nitems = itemscores.shape[1]\n",
    "    return (nitems / (nitems-1)) * (1 - (itemvars.sum() / tscores.var(ddof=1)))"
   ]
  },
  {
   "cell_type": "code",
   "execution_count": 17,
   "metadata": {},
   "outputs": [
    {
     "data": {
      "text/plain": [
       "{'A': ['A1', 'A2', 'A3', 'A4', 'A5'],\n",
       " 'C': ['C1', 'C2', 'C3', 'C4', 'C5'],\n",
       " 'E': ['E1', 'E2', 'E3', 'E4', 'E5'],\n",
       " 'N': ['N1', 'N2', 'N3', 'N4', 'N5'],\n",
       " 'O': ['O1', 'O2', 'O3', 'O4', 'O5']}"
      ]
     },
     "execution_count": 17,
     "metadata": {},
     "output_type": "execute_result"
    }
   ],
   "source": [
    "factors = ['A', 'C', 'E', 'N', 'O']\n",
    "factors_items_dict = {}\n",
    "for factor in factors:\n",
    "    factors_items_dict[factor] = [x for x in df.columns if x[0] == factor]\n",
    "\n",
    "factors_items_dict"
   ]
  },
  {
   "cell_type": "code",
   "execution_count": 18,
   "metadata": {},
   "outputs": [
    {
     "name": "stdout",
     "output_type": "stream",
     "text": [
      "A\n",
      "0.4437533019387808\n",
      "\n",
      "C\n",
      "-0.31628341382240494\n",
      "\n",
      "E\n",
      "-0.6552429584732491\n",
      "\n",
      "N\n",
      "0.8169468842774033\n",
      "\n",
      "O\n",
      "-0.176098107937655\n",
      "\n"
     ]
    }
   ],
   "source": [
    "for key, value in factors_items_dict.items():  \n",
    "    print(key)  \n",
    "    print(CronbachAlpha(df[value]))  \n",
    "    print()"
   ]
  },
  {
   "cell_type": "markdown",
   "metadata": {},
   "source": [
    "N과 A정도가 신뢰도가 높다고 할 수 있다."
   ]
  },
  {
   "cell_type": "markdown",
   "metadata": {},
   "source": [
    "## MDS(Multi Dimensional Scaling)\n",
    "\n",
    "* 군집분석과 같이 개체들을 대상으로 변수들을 측정한 후, 개체들 사이의 유사성/비유사성을 측정하여 개체들을 2차원 또는 3차원 공간상에서 점으로 표현하는 분석법\n",
    "* 여러 대상 간의 거리가 주어져 있을 때, 대상들을 동일한 상대적 거리를 가진 실수공간의 점들로 배치시키는 방법\n",
    "* 개체들을 2차원 또는 3차원 공간상에 점으로 표현하여 개체들 사이의 집단화를 시각적으로 표현하는 분석 방법\n",
    "\n",
    "* 목적\n",
    "  * 데이터 속에 잠재해 있는 패턴, 구조를 찾아서 기하학적으로 표현\n",
    "* 방법\n",
    "  * 개체들의 거리 계산은 유클리드 거리행렬을 활용\n",
    "  * 관측대상들의 상대적 거리의 정확도를 높이기 위해 적합 정도를 스트레스 값으로 표현\n",
    "* 종류\n",
    "  * 계량적 MDS\n",
    "    * 데이터가 구간척도나 비율척도인 경우 활용\n",
    "  * 비계량적 MDS\n",
    "    * 데이터가 순서척도인 경우 활용,\n",
    "    * 개체들 간의 거리가 순서로 주어진 경우에는 순서척도를 거리의 속성과 같도록 변환하여 거리를 생성한 후 적용"
   ]
  },
  {
   "cell_type": "code",
   "execution_count": null,
   "metadata": {},
   "outputs": [],
   "source": [
    "from sklearn.manifold import MDS\n",
    "\n",
    "y = MDS(n_components=2).fit_transform(x) # x: numpy.ndarray"
   ]
  }
 ],
 "metadata": {
  "kernelspec": {
   "display_name": "Python 3.7.6 ('adp': venv)",
   "language": "python",
   "name": "python3"
  },
  "language_info": {
   "codemirror_mode": {
    "name": "ipython",
    "version": 3
   },
   "file_extension": ".py",
   "mimetype": "text/x-python",
   "name": "python",
   "nbconvert_exporter": "python",
   "pygments_lexer": "ipython3",
   "version": "3.7.6"
  },
  "orig_nbformat": 4,
  "vscode": {
   "interpreter": {
    "hash": "e121dbc38053d2982f45d1933ef59f2d15b105186547436b8f27260be9038f3d"
   }
  }
 },
 "nbformat": 4,
 "nbformat_minor": 2
}
