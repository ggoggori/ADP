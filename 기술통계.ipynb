{
 "cells": [
  {
   "cell_type": "markdown",
   "metadata": {},
   "source": [
    "https://mindscale.kr/course/basic-stat-python/1/"
   ]
  },
  {
   "cell_type": "markdown",
   "metadata": {},
   "source": [
    "## 변수의 종류\n",
    "#### 연속변수\n",
    "* 연속적인 값을 가지는 변수\n",
    "* 예) 나이, 점수, 무게, 가격 등\n",
    "#### 범주변수(이산변수)\n",
    "* 서로 다른 것으로 구분되는 변수\n",
    "* 예) 성별(남자/여자), 애완동물(강아지/고양이)\n",
    "##척도\n",
    "* 척도(scale): 측정된 변수의 값을 표현하는 수준(levels of measurement)을 의미\n",
    "\n",
    "#### 명명척도(nominal scale)\n",
    "* 측정값이 같고 다름을 말할 수 있음\n",
    "* 측정값들 사이에 순서가 없음\n",
    "* 사칙연산이 불가능\n",
    "* 종류에 따른 빈도만 계산\n",
    "* 예) 혈액형\n",
    "#### 서열척도(ordinal scale)\n",
    "* 측정값들 사이에 순서가 있음\n",
    "* 측정값들의 간격이 동일하지 않음\n",
    "* 사칙연산은 불가능\n",
    "* 예) 직급(부장, 과장, 대리, ...)\n",
    "  * 부장이 과장보다, 과장이 대리보다 높음\n",
    "  * 부장과 과장의 차이가 과장과 대리의 차이와 같지 않음\n",
    "#### 등간척도(interval scale)\n",
    "* 측정값들 사이에 순서가 있고 간격이 일정\n",
    "* 영점(0)의 의미가 임의적 (영점을 옮겨도 무방함)\n",
    "* 덧셈, 뺄셈이 가능\n",
    "* 예) 섭씨온도\n",
    "  * 섭씨 20도는 섭씨 10도보다 수치로는 2배, 그러나 2배 따뜻한 것이 아님\n",
    "  * 화씨로 바꾸면 각각 50도와 68도가 되어 1.36배에 불과\n",
    "  * 영점의 기준이 임의적이기 때문 (섭씨 0도 = 화씨 32도)\n",
    "#### 비율척도(ratio scale)\n",
    "* 등간척도 + 절대영점\n",
    "* 사칙연산 모두 가능\n",
    "* 절대영점이란, 영점의 의미가 아무 것도 존재하지 않는 상태를 말함\n",
    "* 예) 길이\n",
    "  * 20미터는 10미터보다 수치로도 2배이고 실제로도 2배 긺\n",
    "  * 미터를 피트로 바꿔도 32.8피트와 65.6피트로 2배\n",
    "  * 영점의 기준이 절대적 (0 미터 = 0 피트)\n",
    "## 척도의 중요성\n",
    "* 척도에 따라 적용가능한 통계 분석방법이 다름\n",
    "* 숫자로 표현된 경우라 하더라도 무조건 사칙연산이 가능하지는 않음. 그 숫자의 의미(=척도)를 이해해야\n",
    "  * 예) 남자 = 1, 여자 = 2로 표현하는 경우 수로 표현되었지만  1+1=2 와 같이 계산하면 남자 2명이 여자 1명과 같다는 이상한 해석이 됨\n",
    "* 가능하면 비율척도나 등간척도의 형태로 자료 수집을 하는 것이 분석에 용이\n",
    "  * 예) 연령을 조사하는 경우\n",
    "    * 서열척도로 조사: \"어린이, 청장년, 노인\"와 같이 나누어 조사\n",
    "    * 비율척도로 조사: 만 나이로 조사\n",
    "    * 비율척도는 다양한 계산과 분석이 가능하지만 서열척도는 어린이 몇 명, 노인 몇 명 등의 분석만 가능"
   ]
  },
  {
   "cell_type": "markdown",
   "metadata": {},
   "source": [
    "## 도수분포표와 히스토그램\n",
    "\n",
    "* 도수분포표(frequency table): 데이터를 구간으로 나누어, 각 구간의 빈도를 나타낸 표\n",
    "* 히스토그램(histogram): 도수분포표를 그래프로 그린 것"
   ]
  },
  {
   "cell_type": "markdown",
   "metadata": {},
   "source": [
    "#### 범주변수"
   ]
  },
  {
   "cell_type": "code",
   "execution_count": 1,
   "metadata": {},
   "outputs": [
    {
     "data": {
      "text/plain": [
       "(array(['A', 'AB', 'B', 'O'], dtype='<U2'), array([3, 1, 2, 1], dtype=int64))"
      ]
     },
     "execution_count": 1,
     "metadata": {},
     "output_type": "execute_result"
    }
   ],
   "source": [
    "blood = ['A', 'A', 'A', 'B', 'B', 'AB', 'O']\n",
    "\n",
    "import numpy as np\n",
    "np.unique(blood, return_counts=True) #numpy를 이용한 도수분포표"
   ]
  },
  {
   "cell_type": "code",
   "execution_count": 2,
   "metadata": {},
   "outputs": [
    {
     "data": {
      "text/plain": [
       "A     3\n",
       "B     2\n",
       "AB    1\n",
       "O     1\n",
       "dtype: int64"
      ]
     },
     "execution_count": 2,
     "metadata": {},
     "output_type": "execute_result"
    }
   ],
   "source": [
    "import pandas as pd\n",
    "pd.Series(blood).value_counts() #Pandas를 이용한 도수분포표"
   ]
  },
  {
   "cell_type": "code",
   "execution_count": 3,
   "metadata": {},
   "outputs": [
    {
     "name": "stderr",
     "output_type": "stream",
     "text": [
      "c:\\Users\\whgur\\Desktop\\workspace\\ADP\\adp\\lib\\site-packages\\seaborn\\_decorators.py:43: FutureWarning: Pass the following variable as a keyword arg: x. From version 0.12, the only valid positional argument will be `data`, and passing other arguments without an explicit keyword will result in an error or misinterpretation.\n",
      "  FutureWarning\n"
     ]
    },
    {
     "data": {
      "text/plain": [
       "<AxesSubplot:ylabel='count'>"
      ]
     },
     "execution_count": 3,
     "metadata": {},
     "output_type": "execute_result"
    },
    {
     "data": {
      "image/png": "[encoded data removed]",
      "text/plain": [
       "<Figure size 640x480 with 1 Axes>"
      ]
     },
     "metadata": {},
     "output_type": "display_data"
    }
   ],
   "source": [
    "import seaborn as sns\n",
    "sns.countplot(blood)"
   ]
  },
  {
   "cell_type": "markdown",
   "metadata": {},
   "source": [
    "#### 연속변수"
   ]
  },
  {
   "cell_type": "code",
   "execution_count": 6,
   "metadata": {},
   "outputs": [
    {
     "data": {
      "text/plain": [
       "(array([4, 1, 2, 3], dtype=int64), array([1., 3., 5., 7., 9.]))"
      ]
     },
     "execution_count": 6,
     "metadata": {},
     "output_type": "execute_result"
    }
   ],
   "source": [
    "x = [1, 1, 1, 2, 3, 5, 5, 7, 8, 9]\n",
    "\n",
    "hist, edges = np.histogram(x, 4) #data를 4구간으로 나눔\n",
    "\n",
    "hist,edges"
   ]
  },
  {
   "cell_type": "code",
   "execution_count": 7,
   "metadata": {},
   "outputs": [
    {
     "name": "stderr",
     "output_type": "stream",
     "text": [
      "c:\\Users\\whgur\\Desktop\\workspace\\ADP\\adp\\lib\\site-packages\\seaborn\\distributions.py:2619: FutureWarning: `distplot` is a deprecated function and will be removed in a future version. Please adapt your code to use either `displot` (a figure-level function with similar flexibility) or `histplot` (an axes-level function for histograms).\n",
      "  warnings.warn(msg, FutureWarning)\n"
     ]
    },
    {
     "data": {
      "text/plain": [
       "<AxesSubplot:>"
      ]
     },
     "execution_count": 7,
     "metadata": {},
     "output_type": "execute_result"
    },
    {
     "data": {
      "image/png": "[encoded data removed]",
      "text/plain": [
       "<Figure size 640x480 with 1 Axes>"
      ]
     },
     "metadata": {},
     "output_type": "display_data"
    }
   ],
   "source": [
    "sns.distplot(x, bins=4, kde=False)"
   ]
  },
  {
   "cell_type": "markdown",
   "metadata": {},
   "source": [
    "## 중심경향치"
   ]
  },
  {
   "cell_type": "markdown",
   "metadata": {},
   "source": [
    " * 산술 평균\n",
    "\n",
    "   * 항목들을 다 더해서 항목의 길이(개수)로 나누는 것.\n",
    "\n",
    " \n",
    "\n",
    " * 기하 평균\n",
    "\n",
    "   * 항목들을 다 곱한 것에 항목의 길이(개수)의 제곱근을 취하는 것.\n",
    "\n",
    " \n",
    "\n",
    " * 조화 평균\n",
    "\n",
    "   * 주어진 수들의 역수의 산술 평균의 역수!"
   ]
  },
  {
   "cell_type": "code",
   "execution_count": 10,
   "metadata": {},
   "outputs": [],
   "source": [
    "a,b,c=1,2,5"
   ]
  },
  {
   "cell_type": "code",
   "execution_count": 12,
   "metadata": {},
   "outputs": [
    {
     "name": "stdout",
     "output_type": "stream",
     "text": [
      "산술 평균 = 2.6666666666666665\n",
      "기하 평균 = 2.154434690031884\n",
      "조화 평균 = 1.7647058823529411\n"
     ]
    }
   ],
   "source": [
    "AM = (a+b+c) / 3 # 산술 평균 Arithmetic Mean\n",
    "print(\"산술 평균 =\", AM)\n",
    " \n",
    "GM = (a*b*c) ** (1/3) # 기하 평균 Geometric Mean\n",
    "print(\"기하 평균 =\", GM)\n",
    " \n",
    "HM = 3 / ((1/a)+(1/b)+(1/c)) # 조화 평균 Harmonic Mean\n",
    "print(\"조화 평균 =\", HM)"
   ]
  },
  {
   "cell_type": "markdown",
   "metadata": {},
   "source": [
    "* 평균은 극단적인 값(outliers)의 영향을 잘 받는다. 위의 x에서 500 하나를 1700으로 바꾸었을 뿐이지만 전체 평균은 크게 변한다.\n",
    "* 소득처럼 분포가 비대칭적인 경우에도 평균이 자료를 잘 대표하기 어렵다.\n",
    "\n",
    "* 사칙연산 중 덧셈이 가능해야 하므로, 등간척도/비율척도에서 쓸 수 있다. 서열척도와 명목척도에서는 쓸 수 없다.\n",
    "\n",
    "\n",
    "---"
   ]
  },
  {
   "cell_type": "markdown",
   "metadata": {},
   "source": [
    "### 편향과 분산\n",
    "https://ysyblog.tistory.com/220?category=1144778\n",
    "\n",
    "**편향-분산 상충관계(Bias-variance Trade-off)**\n",
    "\n",
    "1) 편향과 분산의 정의\n",
    "\n",
    "* 편향(Bias): 점추정\n",
    "  * 예측값과 실제값의 차이\n",
    "  * 모델 학습시 여러 데이터로 학습 후 예측값의 범위가 정답과 얼마나 멀리 있는지 측정\n",
    "  \n",
    "* 편향(Bias(Real)): 모형화(단순화)로 미처 반영하지 못한 복잡성\n",
    "  * => 편향이 작다면 Training 데이터 패턴(복잡성)을 최대반영 의미\n",
    "  * => 편향이 크다면 Training 데이터 패턴(복잡성)을 최소반영 의미\n",
    "  \n",
    "* 분산(Variance): 구간추정\n",
    "  * 학습한 모델의 예측값이 평균으로부터 퍼진 정도(변동성/분산)\n",
    "  * 여러 모델로 학습을 반복한다면, 학습된 모델별로 예측한 값들의 차이를 측정\n",
    "  \n",
    "* 분산(Variance(Real)): 다른 데이터(Testing)를 사용했을때 발생할 변화\n",
    "  * => 분산이 작다면 다른 데이터로 예측시 적은 변동 예상\n",
    "  * => 분산이 크다면 다른 데이터로 예측시 많은 변동 예상\n",
    "  \n",
    "**2) 편향과 분산의 관계**\n",
    "\n",
    "* 모델의 복잡도가 낮으면 Bias가 증가하고 Variance가 감소(Underfitting)\n",
    "  * : 구간추정 범위는 좁으나 점추정 정확성 낮음\n",
    "  * : Training/Testing 모두 예측력이 낮음\n",
    "\n",
    "* 모델의 복잡도가 높으면 Bias가 감소하고 Variance가 증가(Overfitting)\n",
    "  * : 점추정 정확성은 높으나 구간추정 범위는 넓음\n",
    "  * : Training만 잘 예측력 높고 Testing은 예측력 낮음\n",
    "\n",
    "* Bias와 Variance가 최소화 되는 수준에서 모델의 복잡도 선택"
   ]
  }
 ],
 "metadata": {
  "kernelspec": {
   "display_name": "Python 3.7.6 ('adp': venv)",
   "language": "python",
   "name": "python3"
  },
  "language_info": {
   "codemirror_mode": {
    "name": "ipython",
    "version": 3
   },
   "file_extension": ".py",
   "mimetype": "text/x-python",
   "name": "python",
   "nbconvert_exporter": "python",
   "pygments_lexer": "ipython3",
   "version": "3.7.6"
  },
  "orig_nbformat": 4,
  "vscode": {
   "interpreter": {
    "hash": "e121dbc38053d2982f45d1933ef59f2d15b105186547436b8f27260be9038f3d"
   }
  }
 },
 "nbformat": 4,
 "nbformat_minor": 2
}
